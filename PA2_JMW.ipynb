{
 "cells": [
  {
   "cell_type": "markdown",
   "id": "bd0259f4",
   "metadata": {},
   "source": [
    "# Jaden Wilkins Personal_Assignment_2 CS-150-01"
   ]
  },
  {
   "cell_type": "markdown",
   "id": "9ce50728",
   "metadata": {},
   "source": [
    "The append() function adds an item to the end of the list."
   ]
  },
  {
   "cell_type": "code",
   "execution_count": 2,
   "id": "9c349550",
   "metadata": {},
   "outputs": [
    {
     "name": "stdout",
     "output_type": "stream",
     "text": [
      "['run', 'jump', 'leap', 'bound']\n"
     ]
    }
   ],
   "source": [
    "new_list=[\"run\", \"jump\", \"leap\"]\n",
    "new_list.append(\"bound\")\n",
    "print(new_list)"
   ]
  },
  {
   "cell_type": "markdown",
   "id": "0fa85fef",
   "metadata": {},
   "source": [
    "The extend() function adds the elements of one list to the end of another list."
   ]
  },
  {
   "cell_type": "code",
   "execution_count": 3,
   "id": "7eda4a6a",
   "metadata": {},
   "outputs": [
    {
     "name": "stdout",
     "output_type": "stream",
     "text": [
      "['slowly', 'badly', 'pretty', 'cool', 'fun']\n"
     ]
    }
   ],
   "source": [
    "adjective_list=[\"pretty\", \"cool\", \"fun\"]\n",
    "adverb_list=[\"slowly\", \"badly\"]\n",
    "adverb_list.extend(adjective_list)\n",
    "\n",
    "print(adverb_list)"
   ]
  },
  {
   "cell_type": "markdown",
   "id": "de10d521",
   "metadata": {},
   "source": [
    "The insert() function adds items to lists at the specified position."
   ]
  },
  {
   "cell_type": "code",
   "execution_count": 5,
   "id": "5b1e3b58",
   "metadata": {},
   "outputs": [
    {
     "name": "stdout",
     "output_type": "stream",
     "text": [
      "['potato', 'carrot', 'squash', 'asparagus']\n"
     ]
    }
   ],
   "source": [
    "vegetable_list=['potato', 'carrot', 'asparagus']\n",
    "vegetable_list.insert(2, 'squash')\n",
    "print(vegetable_list)"
   ]
  },
  {
   "cell_type": "markdown",
   "id": "56d00827",
   "metadata": {},
   "source": [
    "The remove() function removes the chosen element from the list."
   ]
  },
  {
   "cell_type": "code",
   "execution_count": 6,
   "id": "17adfb5c",
   "metadata": {},
   "outputs": [
    {
     "name": "stdout",
     "output_type": "stream",
     "text": [
      "['Randy', 'Lisa', 'John']\n"
     ]
    }
   ],
   "source": [
    "people=['Randy', 'Paul', 'Lisa', 'John']\n",
    "people.remove('Paul')\n",
    "print(people)"
   ]
  },
  {
   "cell_type": "markdown",
   "id": "3f9cc33a",
   "metadata": {},
   "source": [
    "The count() function counts the amount of times that an element is found in a list."
   ]
  },
  {
   "cell_type": "code",
   "execution_count": 8,
   "id": "40384115",
   "metadata": {},
   "outputs": [
    {
     "name": "stdout",
     "output_type": "stream",
     "text": [
      "2\n"
     ]
    }
   ],
   "source": [
    "number_list=[10, 20, 30, 10, 40]\n",
    "x=number_list.count(10)\n",
    "print(x)"
   ]
  },
  {
   "cell_type": "markdown",
   "id": "296e83f9",
   "metadata": {},
   "source": [
    "The index() function tells us at what index a given element of a list is located."
   ]
  },
  {
   "cell_type": "code",
   "execution_count": 10,
   "id": "0c492a4b",
   "metadata": {},
   "outputs": [
    {
     "name": "stdout",
     "output_type": "stream",
     "text": [
      "3\n"
     ]
    }
   ],
   "source": [
    "huge_list=[0, 100, 200, 300, 400]\n",
    "x = huge_list.index(300)\n",
    "print(x)"
   ]
  },
  {
   "cell_type": "markdown",
   "id": "5f129537",
   "metadata": {},
   "source": [
    "The pop() function removes an element at a given index and moves it to a new list."
   ]
  },
  {
   "cell_type": "code",
   "execution_count": 11,
   "id": "8ee244ed",
   "metadata": {},
   "outputs": [
    {
     "name": "stdout",
     "output_type": "stream",
     "text": [
      "[10, 20, 30, 50]\n",
      "40\n"
     ]
    }
   ],
   "source": [
    "numbers=[10, 20, 30, 40, 50]\n",
    "updated_numbers=numbers.pop(3)\n",
    "\n",
    "print(numbers)\n",
    "print(updated_numbers)"
   ]
  },
  {
   "cell_type": "markdown",
   "id": "a20e7d49",
   "metadata": {},
   "source": [
    "The sorted() function sorts the elements of a list as long as they are all of the same type."
   ]
  },
  {
   "cell_type": "code",
   "execution_count": 15,
   "id": "d342c8a2",
   "metadata": {},
   "outputs": [
    {
     "data": {
      "text/plain": [
       "['alpha', 'bravo', 'charlie', 'delta']"
      ]
     },
     "execution_count": 15,
     "metadata": {},
     "output_type": "execute_result"
    }
   ],
   "source": [
    "abc_list=['bravo', 'alpha', 'delta', 'charlie']\n",
    "sorted(abc_list)"
   ]
  },
  {
   "cell_type": "markdown",
   "id": "8cc27128",
   "metadata": {},
   "source": [
    "The copy() function creates and returns a copy of an existing list."
   ]
  },
  {
   "cell_type": "code",
   "execution_count": 20,
   "id": "a185f4a3",
   "metadata": {},
   "outputs": [
    {
     "name": "stdout",
     "output_type": "stream",
     "text": [
      "['nike', 'adidas', 'puma', 'fila']\n",
      "['nike', 'adidas', 'puma', 'fila']\n"
     ]
    }
   ],
   "source": [
    "brands=['nike', 'adidas', 'puma', 'fila']\n",
    "x=brands.copy()\n",
    "print(x)\n",
    "print(brands)"
   ]
  },
  {
   "cell_type": "markdown",
   "id": "ffe9197d",
   "metadata": {},
   "source": [
    "The clear() function removes all elements from a list."
   ]
  },
  {
   "cell_type": "code",
   "execution_count": 21,
   "id": "2efc0a96",
   "metadata": {},
   "outputs": [
    {
     "name": "stdout",
     "output_type": "stream",
     "text": [
      "[]\n"
     ]
    }
   ],
   "source": [
    "random_list=[23, 5467, 433, 654, 546]\n",
    "random_list.clear()\n",
    "print(random_list)"
   ]
  },
  {
   "cell_type": "markdown",
   "id": "79c11ead",
   "metadata": {},
   "source": [
    "The list() function returns an existing element as its own list."
   ]
  },
  {
   "cell_type": "code",
   "execution_count": 24,
   "id": "23e8e068",
   "metadata": {},
   "outputs": [
    {
     "name": "stdout",
     "output_type": "stream",
     "text": [
      "['J', 'a', 'd', 'e', 'n']\n"
     ]
    }
   ],
   "source": [
    "my_name='Jaden'\n",
    "my_name_list=list(my_name)\n",
    "print(my_name_list)"
   ]
  },
  {
   "cell_type": "markdown",
   "id": "f3ae5d55",
   "metadata": {},
   "source": [
    "The len() function returns the number of items in a tuple."
   ]
  },
  {
   "cell_type": "code",
   "execution_count": 28,
   "id": "c6444241",
   "metadata": {},
   "outputs": [
    {
     "name": "stdout",
     "output_type": "stream",
     "text": [
      "4\n"
     ]
    }
   ],
   "source": [
    "food_tuple=('waffles', 'tacos', 'pizza', 'pasta')\n",
    "x=len(food_tuple)\n",
    "print(x)"
   ]
  },
  {
   "cell_type": "markdown",
   "id": "bc87c6e9",
   "metadata": {},
   "source": [
    "The max() function returns the element with the highest value in a tuple"
   ]
  },
  {
   "cell_type": "code",
   "execution_count": 29,
   "id": "62a3aea2",
   "metadata": {},
   "outputs": [
    {
     "name": "stdout",
     "output_type": "stream",
     "text": [
      "63489\n"
     ]
    }
   ],
   "source": [
    "number_tuple=[1, 2, 3, 63489, 4]\n",
    "x=max(number_tuple)\n",
    "print(x)"
   ]
  },
  {
   "cell_type": "markdown",
   "id": "4adb4aee",
   "metadata": {},
   "source": [
    "The min() function returns the element with the lowest value in a tuple"
   ]
  },
  {
   "cell_type": "code",
   "execution_count": 30,
   "id": "239f1c15",
   "metadata": {},
   "outputs": [
    {
     "name": "stdout",
     "output_type": "stream",
     "text": [
      "4\n"
     ]
    }
   ],
   "source": [
    "small_tuple=[23, 4839, 2092, 4, 89345]\n",
    "x=min(small_tuple)\n",
    "print(x)"
   ]
  }
 ],
 "metadata": {
  "kernelspec": {
   "display_name": "Python 3 (ipykernel)",
   "language": "python",
   "name": "python3"
  },
  "language_info": {
   "codemirror_mode": {
    "name": "ipython",
    "version": 3
   },
   "file_extension": ".py",
   "mimetype": "text/x-python",
   "name": "python",
   "nbconvert_exporter": "python",
   "pygments_lexer": "ipython3",
   "version": "3.9.12"
  }
 },
 "nbformat": 4,
 "nbformat_minor": 5
}
